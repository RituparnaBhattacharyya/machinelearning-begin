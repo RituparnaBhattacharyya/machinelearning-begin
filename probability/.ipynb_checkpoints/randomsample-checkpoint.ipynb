{
 "cells": [
  {
   "cell_type": "code",
   "execution_count": 14,
   "metadata": {},
   "outputs": [
    {
     "name": "stdout",
     "output_type": "stream",
     "text": [
      "[3, 6, 11, 13, 14, 16, 20, 26, 34, 35, 56, 62, 64, 66, 68, 72, 73, 76, 79, 81, 84, 88, 93, 98, 105, 106, 107, 108, 112, 115, 117, 120, 123, 124, 135, 137, 138, 141, 143, 148]\n"
     ]
    },
    {
     "data": {
      "text/plain": [
       "40"
      ]
     },
     "execution_count": 14,
     "metadata": {},
     "output_type": "execute_result"
    }
   ],
   "source": [
    "#how to get random sample from set of data points\n",
    "\n",
    "import random;\n",
    "\n",
    "n = 150;\n",
    "m = 30; # generate nearly 30 data points\n",
    "probability = 30/150; #0.2\n",
    "dataset = [];\n",
    "\n",
    "for i in range(0, n):\n",
    "    if random.random() <= probability: # random.random() generates random no in range of 0-1\n",
    "        dataset.append(i);\n",
    "print(dataset)\n",
    "len(dataset)\n",
    "\n",
    "# the size of dataset of random sample need not be 30."
   ]
  },
  {
   "cell_type": "code",
   "execution_count": null,
   "metadata": {},
   "outputs": [],
   "source": []
  },
  {
   "cell_type": "code",
   "execution_count": null,
   "metadata": {},
   "outputs": [],
   "source": []
  },
  {
   "cell_type": "code",
   "execution_count": null,
   "metadata": {},
   "outputs": [],
   "source": []
  },
  {
   "cell_type": "code",
   "execution_count": null,
   "metadata": {},
   "outputs": [],
   "source": []
  }
 ],
 "metadata": {
  "kernelspec": {
   "display_name": "Python 3",
   "language": "python",
   "name": "python3"
  },
  "language_info": {
   "codemirror_mode": {
    "name": "ipython",
    "version": 3
   },
   "file_extension": ".py",
   "mimetype": "text/x-python",
   "name": "python",
   "nbconvert_exporter": "python",
   "pygments_lexer": "ipython3",
   "version": "3.6.1"
  }
 },
 "nbformat": 4,
 "nbformat_minor": 2
}
